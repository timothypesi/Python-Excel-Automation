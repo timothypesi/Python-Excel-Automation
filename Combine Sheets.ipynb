{
 "cells": [
  {
   "cell_type": "code",
   "execution_count": null,
   "metadata": {},
   "outputs": [],
   "source": [
    "import pandas as pd\n",
    "import openpyxl\n",
    "\n",
    "# Load the Excel file and the sheet names to merge\n",
    "excel_file = \"CombineSheets.xlsx\" #Edit here with the file you want to combine\n",
    "sheet_names = ['Sheet1', 'Sheet2', 'Sheet3',\"Sheet4\"]\n",
    "\n",
    "# Initialize an empty dataframe to store the combined data\n",
    "combined_df = pd.DataFrame()\n",
    "\n",
    "# Loop through the sheet names, and load each sheet into the combined dataframe\n",
    "for sheet in sheet_names:\n",
    "    df = pd.read_excel(excel_file, sheet_name=sheet)\n",
    "    combined_df = pd.concat([combined_df, df], ignore_index=True)\n",
    "\n",
    "# Remove the 'Combined' sheet if it exists in the Excel file\n",
    "with pd.ExcelWriter(excel_file, engine='openpyxl', mode='a') as writer:\n",
    "    writer.book = openpyxl.load_workbook(excel_file)\n",
    "    if 'Combined' in writer.book.sheetnames:\n",
    "        writer.book.remove(writer.book['Combined'])\n",
    "        writer.book.save(excel_file)\n",
    "\n",
    "# Write the combined dataframe to a new sheet in the same Excel file\n",
    "with pd.ExcelWriter(excel_file, engine='openpyxl', mode='a') as writer:\n",
    "    combined_df.to_excel(writer, sheet_name='Combined', index=False)"
   ]
  }
 ],
 "metadata": {
  "kernelspec": {
   "display_name": "base",
   "language": "python",
   "name": "python3"
  },
  "language_info": {
   "codemirror_mode": {
    "name": "ipython",
    "version": 3
   },
   "file_extension": ".py",
   "mimetype": "text/x-python",
   "name": "python",
   "nbconvert_exporter": "python",
   "pygments_lexer": "ipython3",
   "version": "3.9.7"
  },
  "orig_nbformat": 4
 },
 "nbformat": 4,
 "nbformat_minor": 2
}
