{
 "cells": [
  {
   "attachments": {},
   "cell_type": "markdown",
   "metadata": {},
   "source": [
    "In the above script, replace 'path/to/excel/file.xlsx' with the actual path to your Excel workbook. The script uses the openpyxl library to open the workbook and get the current time and name of the person who opened the workbook. It then writes this data to a separate worksheet within the workbook for each user, along with a log of any changes they make to the workbook. The script registers a callback function called on_sheet_change that is called whenever a user makes changes to a worksheet in the workbook. This function logs the time and action to the user's log sheet, and then saves the workbook.\n",
    "\n",
    "With this script, you can keep track of who is using your workbook, when they are using it, and what changes they are making. This information can be useful for auditing and debugging purposes, and can help you optimize the workbook for better performance and usability."
   ]
  },
  {
   "cell_type": "code",
   "execution_count": null,
   "metadata": {},
   "outputs": [],
   "source": [
    "import openpyxl\n",
    "import datetime\n",
    "\n",
    "# Open the Excel workbook\n",
    "workbook = openpyxl.load_workbook('path\\\\to\\\\excel\\\\file.xlsx')\n",
    "\n",
    "# Get the current time\n",
    "now = datetime.datetime.now()\n",
    "\n",
    "# Get the name of the person who opened the workbook\n",
    "name = 'User1' # Replace with your username or a method to get the username\n",
    "\n",
    "# Write the log data to a separate sheet for each user\n",
    "if name not in workbook.sheetnames:\n",
    "    log_sheet = workbook.create_sheet(name)\n",
    "    log_sheet.append(['Time', 'Action'])\n",
    "else:\n",
    "    log_sheet = workbook[name]\n",
    "\n",
    "# Log the time and action\n",
    "log_sheet.append([now, 'Opened'])\n",
    "\n",
    "# Save the workbook\n",
    "workbook.save('path\\\\to\\\\excel\\\\file.xlsx')\n",
    "\n",
    "# Register a callback function to log changes made by users\n",
    "def on_sheet_change(event):\n",
    "    # Get the current time\n",
    "    now = datetime.datetime.now()\n",
    "\n",
    "    # Get the name of the person who made the change\n",
    "    name = 'User1' # Replace with your username or a method to get the username\n",
    "\n",
    "    # Write the log data to the user's log sheet\n",
    "    if name not in workbook.sheetnames:\n",
    "        log_sheet = workbook.create_sheet(name)\n",
    "        log_sheet.append(['Time', 'Action'])\n",
    "    else:\n",
    "        log_sheet = workbook[name]\n",
    "\n",
    "    # Log the time and action\n",
    "    log_sheet.append([now, 'Changed {} on {}'.format(event.address, event.worksheet.title)])\n",
    "\n",
    "    # Save the workbook\n",
    "    workbook.save('path\\\\to\\\\excel\\\\file.xlsx')\n",
    "\n",
    "# Register the callback function for all worksheets in the workbook\n",
    "for sheet in workbook.worksheets:\n",
    "    sheet._cell_event = on_sheet_change"
   ]
  }
 ],
 "metadata": {
  "kernelspec": {
   "display_name": "base",
   "language": "python",
   "name": "python3"
  },
  "language_info": {
   "codemirror_mode": {
    "name": "ipython",
    "version": 3
   },
   "file_extension": ".py",
   "mimetype": "text/x-python",
   "name": "python",
   "nbconvert_exporter": "python",
   "pygments_lexer": "ipython3",
   "version": "3.9.7"
  },
  "orig_nbformat": 4
 },
 "nbformat": 4,
 "nbformat_minor": 2
}
