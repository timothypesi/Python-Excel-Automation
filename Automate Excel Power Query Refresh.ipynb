{
 "cells": [
  {
   "cell_type": "code",
   "execution_count": null,
   "metadata": {},
   "outputs": [],
   "source": [
    "# Importing the pywin32 module\n",
    "import win32com.client\n",
    "import time\n",
    "  \n",
    "# Opening Excel software using the win32com\n",
    "File = win32com.client.Dispatch(\"Excel.Application\")\n",
    "  \n",
    "# Optional line to show the Excel software\n",
    "File.Visible = 1\n",
    "  \n",
    "# Opening your workbook\n",
    "Workbook = File.Workbooks.open(\"C:\\\\Users\\\\Combined.xlsx\")\n",
    "\n",
    "# Refeshing all the shests\n",
    "Workbook.RefreshAll()\n",
    "    \n",
    "time.sleep(120)\n",
    "\n",
    "# Saving the Workbook\n",
    "Workbook.Save()\n",
    "  \n",
    "# Closing the Excel File\n",
    "File.Quit()"
   ]
  }
 ],
 "metadata": {
  "language_info": {
   "name": "python"
  },
  "orig_nbformat": 4
 },
 "nbformat": 4,
 "nbformat_minor": 2
}
