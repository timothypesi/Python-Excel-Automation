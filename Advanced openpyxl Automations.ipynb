{
 "cells": [
  {
   "attachments": {},
   "cell_type": "markdown",
   "metadata": {},
   "source": [
    "1 . Set column width for multiple columns"
   ]
  },
  {
   "cell_type": "code",
   "execution_count": null,
   "metadata": {},
   "outputs": [],
   "source": [
    "import openpyxl\n",
    "\n",
    "workbook = openpyxl.load_workbook('path/to/excel/file.xlsx')\n",
    "worksheet = workbook.active\n",
    "worksheet.column_dimensions.group('A', 'D', hidden=False, width=15)\n",
    "workbook.save('path/to/excel/file.xlsx')\n"
   ]
  },
  {
   "attachments": {},
   "cell_type": "markdown",
   "metadata": {},
   "source": [
    "2 . Protect a specific range of cells in a worksheet"
   ]
  },
  {
   "cell_type": "code",
   "execution_count": null,
   "metadata": {},
   "outputs": [],
   "source": [
    "import openpyxl\n",
    "\n",
    "workbook = openpyxl.load_workbook('path/to/excel/file.xlsx')\n",
    "worksheet = workbook.active\n",
    "worksheet.protection.enable()\n",
    "worksheet.protection.set_password('mypassword')\n",
    "worksheet.protection.set_cells('A1:C10', 'sheet', 'mypassword')\n",
    "workbook.save('path/to/excel/file.xlsx')\n"
   ]
  },
  {
   "attachments": {},
   "cell_type": "markdown",
   "metadata": {},
   "source": [
    "3 . Apply a conditional format to an entire row based on a specific cell value"
   ]
  },
  {
   "cell_type": "code",
   "execution_count": null,
   "metadata": {},
   "outputs": [],
   "source": [
    "import openpyxl\n",
    "from openpyxl.styles import Font, PatternFill\n",
    "\n",
    "workbook = openpyxl.load_workbook('path/to/excel/file.xlsx')\n",
    "worksheet = workbook.active\n",
    "\n",
    "for row in worksheet.iter_rows(min_row=2, max_row=worksheet.max_row):\n",
    "    if row[0].value == 'Apple':\n",
    "        for cell in row:\n",
    "            cell.fill = PatternFill(start_color='00FF00', end_color='00FF00', fill_type='solid')\n",
    "            cell.font = Font(bold=True)\n",
    "\n",
    "workbook.save('path/to/excel/file.xlsx')\n"
   ]
  },
  {
   "attachments": {},
   "cell_type": "markdown",
   "metadata": {},
   "source": [
    "4 . Insert an image into a worksheet"
   ]
  },
  {
   "cell_type": "code",
   "execution_count": null,
   "metadata": {},
   "outputs": [],
   "source": [
    "import openpyxl\n",
    "from openpyxl.drawing.image import Image\n",
    "\n",
    "workbook = openpyxl.load_workbook('path/to/excel/file.xlsx')\n",
    "worksheet = workbook.active\n",
    "\n",
    "img = Image('path/to/image/file.png')\n",
    "img.width = 200\n",
    "img.height = 100\n",
    "worksheet.add_image(img, 'A1')\n",
    "\n",
    "workbook.save('path/to/excel/file.xlsx')"
   ]
  },
  {
   "attachments": {},
   "cell_type": "markdown",
   "metadata": {},
   "source": [
    "5 . Create a named range in a worksheet"
   ]
  },
  {
   "cell_type": "code",
   "execution_count": null,
   "metadata": {},
   "outputs": [],
   "source": [
    "import openpyxl\n",
    "from openpyxl.utils import range_boundaries\n",
    "\n",
    "workbook = openpyxl.load_workbook('path/to/excel/file.xlsx')\n",
    "worksheet = workbook.active\n",
    "\n",
    "named_range = 'MyNamedRange'\n",
    "range_start = 'A1'\n",
    "range_end = 'C10'\n",
    "worksheet.defined_names.append(openpyxl.workbook.defined_name.DefinedName(name=named_range, localSheetId=0, \\\n",
    "    range_string='{}!${}:${}'.format(worksheet.title, ':'.join(range_boundaries(range_start, range_end)))))\n",
    "workbook.save('path/to/excel/file.xlsx')\n"
   ]
  },
  {
   "attachments": {},
   "cell_type": "markdown",
   "metadata": {},
   "source": [
    "6 . Add a hyperlink to a cell in a worksheet"
   ]
  },
  {
   "cell_type": "code",
   "execution_count": null,
   "metadata": {},
   "outputs": [],
   "source": [
    "import openpyxl\n",
    "from openpyxl.utils import quote_sheetname\n",
    "\n",
    "workbook = openpyxl.load_workbook('path/to/excel/file.xlsx')\n",
    "worksheet = workbook.active\n",
    "\n",
    "url = 'https://www.google.com/'\n",
    "cell = worksheet.cell(row=1, column=1)\n",
    "cell.value = 'Click here'\n",
    "cell.hyperlink = openpyxl.worksheet.hyperlink.Hyperlink(ref=cell.coordinate, target=url, target_mode=None, tooltip='Visit Google')\n",
    "\n",
    "workbook.save('path/to/excel/file.xlsx')"
   ]
  },
  {
   "attachments": {},
   "cell_type": "markdown",
   "metadata": {},
   "source": [
    "7 . Remove duplicate rows from a worksheet"
   ]
  },
  {
   "cell_type": "code",
   "execution_count": null,
   "metadata": {},
   "outputs": [],
   "source": [
    "import openpyxl\n",
    "\n",
    "workbook = openpyxl.load_workbook('path/to/excel/file.xlsx')\n",
    "worksheet = workbook.active\n",
    "\n",
    "unique_rows = set()\n",
    "for row in worksheet.iter_rows(min_row=1, values_only=True):\n",
    "    row_as_str = ','.join([str(cell) for cell in row])\n",
    "    unique_rows.add(row_as_str)\n",
    "\n",
    "worksheet.delete_rows(2, worksheet.max_row)\n",
    "for row in unique_rows:\n",
    "    worksheet.append"
   ]
  }
 ],
 "metadata": {
  "language_info": {
   "name": "python"
  },
  "orig_nbformat": 4
 },
 "nbformat": 4,
 "nbformat_minor": 2
}
